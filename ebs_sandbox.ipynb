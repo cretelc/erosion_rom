{
 "cells": [
  {
   "cell_type": "code",
   "execution_count": 54,
   "metadata": {},
   "outputs": [],
   "source": [
    "from uncertainties import ufloat\n",
    "from uncertainties.umath import log\n",
    "import numpy as np\n",
    "import matplotlib.pyplot as plt\n",
    "from scipy.constants import elementary_charge as q\n",
    "from scipy.constants import electron_mass as me\n",
    "from time import perf_counter\n",
    "pi= np.pi"
   ]
  },
  {
   "cell_type": "code",
   "execution_count": 2,
   "metadata": {},
   "outputs": [],
   "source": [
    "def vth(Te, M = me):\n",
    "    ''' Calculates average thermal speed for electrons '''\n",
    "    return np.sqrt(8*q*Te / (pi*M))"
   ]
  },
  {
   "cell_type": "code",
   "execution_count": 100,
   "metadata": {},
   "outputs": [
    {
     "name": "stdout",
     "output_type": "stream",
     "text": [
      "cbar = 946445.8 m/s\n",
      "C=5.21e-06\n",
      "2.70e-07\n"
     ]
    }
   ],
   "source": [
    "ra     = 0.57e-3    # m\n",
    "Te     = 2          # eV\n",
    "nbp    = 1e16       # m-3\n",
    "phi_sp = -10        # V\n",
    "phi_bp = 0          # V\n",
    "cbar   = vth(Te)    # might be one more 0\n",
    "print(f\"cbar = {cbar:0.1f} m/s\")    \n",
    "k1 = 2 * pi * ra**2 * q \n",
    "k2 = nbp*cbar/ 4\n",
    "k3 = np.exp((phi_sp - phi_bp)/Te)\n",
    "C = k1*k2*k3\n",
    "print(f\"C={C:0.2e}\")\n",
    "\n",
    "Ib = 0.27e-3 # A\n",
    "Rebs = 0.001\n",
    "print(f\"{Ib*Rebs:0.2e}\")\n",
    "\n"
   ]
  },
  {
   "cell_type": "code",
   "execution_count": 93,
   "metadata": {},
   "outputs": [],
   "source": [
    "def g(x):\n",
    "    return np.exp(x) - 1\n",
    "\n",
    "def h(x):\n",
    "    return x\n",
    "\n",
    "def dg(x):\n",
    "    return np.exp(x)\n",
    "def dh(x):\n",
    "    return 1\n",
    "\n",
    "def Fplot(x):\n",
    "    return g(x)*h(x)\n",
    "\n",
    "def F(x, C=1e-5, B=2.7e-7):\n",
    "    return C * (g(x)/h(x)) - B\n",
    "    #return (g(x)/h(x)) - (B/C)\n",
    "\n",
    "def DF(x, C=1e-5):\n",
    "    return C*( dg(x)*h(x) - g(x)*dh(x) ) / (h(x)**2)\n",
    "\n",
    "\n",
    "def newton(x0, f, Df, error, maxiter, **kwargs):\n",
    "    ''' calculates the solution to f via Newtone Method'''\n",
    "    xn = x0\n",
    "    X = np.zeros(maxiter)\n",
    "    for i in range(0, maxiter):\n",
    "        X[i] = xn\n",
    "        fxn  = f(xn, **kwargs)\n",
    "        Dfxn = Df(xn, **kwargs)\n",
    "        print(f\"Guess = {xn:0.2f}, fxn = {fxn:0.2e}, Dfxn = {Dfxn:0.2e}\")\n",
    "        if abs(fxn) < error:\n",
    "            print(f\"Solution, {xn:0.2f}, found after {i} iterations.\")\n",
    "            return xn, i, X\n",
    "        if Dfxn == 0:\n",
    "            print('Zero derivative. No solution found.')\n",
    "            #return None, i\n",
    "            return xn, i, X\n",
    "        xn = xn - fxn / Dfxn\n",
    "        \n",
    "    print(f'Hit max iterations without finding solution: {xn}')\n",
    "    return xn, i, X\n"
   ]
  },
  {
   "cell_type": "code",
   "execution_count": 94,
   "metadata": {},
   "outputs": [
    {
     "name": "stdout",
     "output_type": "stream",
     "text": [
      "[1.00000000e-10 1.26485522e-10 1.59985872e-10 2.02358965e-10\n",
      " 2.55954792e-10 3.23745754e-10 4.09491506e-10 5.17947468e-10\n",
      " 6.55128557e-10 8.28642773e-10 1.04811313e-09 1.32571137e-09\n",
      " 1.67683294e-09 2.12095089e-09 2.68269580e-09 3.39322177e-09\n",
      " 4.29193426e-09 5.42867544e-09 6.86648845e-09 8.68511374e-09\n",
      " 1.09854114e-08 1.38949549e-08 1.75751062e-08 2.22299648e-08\n",
      " 2.81176870e-08 3.55648031e-08 4.49843267e-08 5.68986603e-08\n",
      " 7.19685673e-08 9.10298178e-08 1.15139540e-07 1.45634848e-07\n",
      " 1.84206997e-07 2.32995181e-07 2.94705170e-07 3.72759372e-07\n",
      " 4.71486636e-07 5.96362332e-07 7.54312006e-07 9.54095476e-07\n",
      " 1.20679264e-06 1.52641797e-06 1.93069773e-06 2.44205309e-06\n",
      " 3.08884360e-06 3.90693994e-06 4.94171336e-06 6.25055193e-06\n",
      " 7.90604321e-06 1.00000000e-05]\n"
     ]
    }
   ],
   "source": [
    "e = np.logspace(-10, -5)\n",
    "print(e)\n"
   ]
  },
  {
   "cell_type": "code",
   "execution_count": 99,
   "metadata": {},
   "outputs": [
    {
     "name": "stdout",
     "output_type": "stream",
     "text": [
      "Guess = -1.00, fxn = 6.05e-06, Dfxn = 2.64e-06\n",
      "Guess = -3.29, fxn = 2.66e-06, Dfxn = 7.76e-07\n",
      "Guess = -6.71, fxn = 1.22e-06, Dfxn = 2.20e-07\n",
      "Guess = -12.25, fxn = 5.46e-07, Dfxn = 6.66e-08\n",
      "Guess = -20.45, fxn = 2.19e-07, Dfxn = 2.39e-08\n",
      "Guess = -29.61, fxn = 6.77e-08, Dfxn = 1.14e-08\n",
      "Guess = -35.55, fxn = 1.13e-08, Dfxn = 7.91e-09\n",
      "Guess = -36.98, fxn = 4.37e-10, Dfxn = 7.31e-09\n",
      "Guess = -37.04, fxn = 7.06e-13, Dfxn = 7.29e-09\n",
      "Solution, -37.04, found after 8 iterations.\n",
      "0.00 s\n"
     ]
    },
    {
     "data": {
      "text/plain": [
       "[<matplotlib.lines.Line2D at 0x14d42d8b0>]"
      ]
     },
     "execution_count": 99,
     "metadata": {},
     "output_type": "execute_result"
    },
    {
     "data": {
      "image/png": "[encoded data removed]",
      "text/plain": [
       "<Figure size 640x480 with 1 Axes>"
      ]
     },
     "metadata": {},
     "output_type": "display_data"
    }
   ],
   "source": [
    "#x, iters= newton(-1, F, DF, error=1e-5, maxiter=10000) # keep this for the B/C term\n",
    "t0 = perf_counter()\n",
    "x, iters, X = newton(-1, F, DF, error=1e-12, maxiter=20)\n",
    "print(f\"{perf_counter()-t0:0.2f} s\")\n",
    "plt.plot(X[0:iters+1], 'r.')\n"
   ]
  },
  {
   "cell_type": "code",
   "execution_count": 92,
   "metadata": {},
   "outputs": [
    {
     "name": "stdout",
     "output_type": "stream",
     "text": [
      "Guess = -1.00, fxn = 6.05e-06, Dfxn = 2.64e-06\n",
      "Guess = -3.29, fxn = 2.66e-06, Dfxn = 7.76e-07\n",
      "Guess = -6.71, fxn = 1.22e-06, Dfxn = 2.20e-07\n",
      "Guess = -12.25, fxn = 5.46e-07, Dfxn = 6.66e-08\n",
      "Guess = -20.45, fxn = 2.19e-07, Dfxn = 2.39e-08\n",
      "Guess = -29.61, fxn = 6.77e-08, Dfxn = 1.14e-08\n",
      "Guess = -35.55, fxn = 1.13e-08, Dfxn = 7.91e-09\n",
      "Guess = -36.98, fxn = 4.37e-10, Dfxn = 7.31e-09\n",
      "Guess = -37.04, fxn = 7.06e-13, Dfxn = 7.29e-09\n",
      "Solution, -37.04, found after 8 iterations.\n",
      "Guess = -1.00, fxn = 6.05e-06, Dfxn = 2.64e-06\n",
      "Guess = -3.29, fxn = 2.66e-06, Dfxn = 7.76e-07\n",
      "Guess = -6.71, fxn = 1.22e-06, Dfxn = 2.20e-07\n",
      "Guess = -12.25, fxn = 5.46e-07, Dfxn = 6.66e-08\n",
      "Guess = -20.45, fxn = 2.19e-07, Dfxn = 2.39e-08\n",
      "Guess = -29.61, fxn = 6.77e-08, Dfxn = 1.14e-08\n",
      "Guess = -35.55, fxn = 1.13e-08, Dfxn = 7.91e-09\n",
      "Guess = -36.98, fxn = 4.37e-10, Dfxn = 7.31e-09\n",
      "Guess = -37.04, fxn = 7.06e-13, Dfxn = 7.29e-09\n",
      "Solution, -37.04, found after 8 iterations.\n",
      "Guess = -1.00, fxn = 6.05e-06, Dfxn = 2.64e-06\n",
      "Guess = -3.29, fxn = 2.66e-06, Dfxn = 7.76e-07\n",
      "Guess = -6.71, fxn = 1.22e-06, Dfxn = 2.20e-07\n",
      "Guess = -12.25, fxn = 5.46e-07, Dfxn = 6.66e-08\n",
      "Guess = -20.45, fxn = 2.19e-07, Dfxn = 2.39e-08\n",
      "Guess = -29.61, fxn = 6.77e-08, Dfxn = 1.14e-08\n",
      "Guess = -35.55, fxn = 1.13e-08, Dfxn = 7.91e-09\n",
      "Guess = -36.98, fxn = 4.37e-10, Dfxn = 7.31e-09\n",
      "Guess = -37.04, fxn = 7.06e-13, Dfxn = 7.29e-09\n",
      "Solution, -37.04, found after 8 iterations.\n",
      "Guess = -1.00, fxn = 6.05e-06, Dfxn = 2.64e-06\n",
      "Guess = -3.29, fxn = 2.66e-06, Dfxn = 7.76e-07\n",
      "Guess = -6.71, fxn = 1.22e-06, Dfxn = 2.20e-07\n",
      "Guess = -12.25, fxn = 5.46e-07, Dfxn = 6.66e-08\n",
      "Guess = -20.45, fxn = 2.19e-07, Dfxn = 2.39e-08\n",
      "Guess = -29.61, fxn = 6.77e-08, Dfxn = 1.14e-08\n",
      "Guess = -35.55, fxn = 1.13e-08, Dfxn = 7.91e-09\n",
      "Guess = -36.98, fxn = 4.37e-10, Dfxn = 7.31e-09\n",
      "Guess = -37.04, fxn = 7.06e-13, Dfxn = 7.29e-09\n",
      "Solution, -37.04, found after 8 iterations.\n",
      "Guess = -1.00, fxn = 6.05e-06, Dfxn = 2.64e-06\n",
      "Guess = -3.29, fxn = 2.66e-06, Dfxn = 7.76e-07\n",
      "Guess = -6.71, fxn = 1.22e-06, Dfxn = 2.20e-07\n",
      "Guess = -12.25, fxn = 5.46e-07, Dfxn = 6.66e-08\n",
      "Guess = -20.45, fxn = 2.19e-07, Dfxn = 2.39e-08\n",
      "Guess = -29.61, fxn = 6.77e-08, Dfxn = 1.14e-08\n",
      "Guess = -35.55, fxn = 1.13e-08, Dfxn = 7.91e-09\n",
      "Guess = -36.98, fxn = 4.37e-10, Dfxn = 7.31e-09\n",
      "Guess = -37.04, fxn = 7.06e-13, Dfxn = 7.29e-09\n",
      "Solution, -37.04, found after 8 iterations.\n",
      "Guess = -1.00, fxn = 6.05e-06, Dfxn = 2.64e-06\n",
      "Guess = -3.29, fxn = 2.66e-06, Dfxn = 7.76e-07\n",
      "Guess = -6.71, fxn = 1.22e-06, Dfxn = 2.20e-07\n",
      "Guess = -12.25, fxn = 5.46e-07, Dfxn = 6.66e-08\n",
      "Guess = -20.45, fxn = 2.19e-07, Dfxn = 2.39e-08\n",
      "Guess = -29.61, fxn = 6.77e-08, Dfxn = 1.14e-08\n",
      "Guess = -35.55, fxn = 1.13e-08, Dfxn = 7.91e-09\n",
      "Guess = -36.98, fxn = 4.37e-10, Dfxn = 7.31e-09\n",
      "Guess = -37.04, fxn = 7.06e-13, Dfxn = 7.29e-09\n",
      "Solution, -37.04, found after 8 iterations.\n",
      "Guess = -1.00, fxn = 6.05e-06, Dfxn = 2.64e-06\n",
      "Guess = -3.29, fxn = 2.66e-06, Dfxn = 7.76e-07\n",
      "Guess = -6.71, fxn = 1.22e-06, Dfxn = 2.20e-07\n",
      "Guess = -12.25, fxn = 5.46e-07, Dfxn = 6.66e-08\n",
      "Guess = -20.45, fxn = 2.19e-07, Dfxn = 2.39e-08\n",
      "Guess = -29.61, fxn = 6.77e-08, Dfxn = 1.14e-08\n",
      "Guess = -35.55, fxn = 1.13e-08, Dfxn = 7.91e-09\n",
      "Guess = -36.98, fxn = 4.37e-10, Dfxn = 7.31e-09\n",
      "Guess = -37.04, fxn = 7.06e-13, Dfxn = 7.29e-09\n",
      "Solution, -37.04, found after 8 iterations.\n",
      "Guess = -1.00, fxn = 6.05e-06, Dfxn = 2.64e-06\n",
      "Guess = -3.29, fxn = 2.66e-06, Dfxn = 7.76e-07\n",
      "Guess = -6.71, fxn = 1.22e-06, Dfxn = 2.20e-07\n",
      "Guess = -12.25, fxn = 5.46e-07, Dfxn = 6.66e-08\n",
      "Guess = -20.45, fxn = 2.19e-07, Dfxn = 2.39e-08\n",
      "Guess = -29.61, fxn = 6.77e-08, Dfxn = 1.14e-08\n",
      "Guess = -35.55, fxn = 1.13e-08, Dfxn = 7.91e-09\n",
      "Guess = -36.98, fxn = 4.37e-10, Dfxn = 7.31e-09\n",
      "Solution, -36.98, found after 7 iterations.\n",
      "Guess = -1.00, fxn = 6.05e-06, Dfxn = 2.64e-06\n",
      "Guess = -3.29, fxn = 2.66e-06, Dfxn = 7.76e-07\n",
      "Guess = -6.71, fxn = 1.22e-06, Dfxn = 2.20e-07\n",
      "Guess = -12.25, fxn = 5.46e-07, Dfxn = 6.66e-08\n",
      "Guess = -20.45, fxn = 2.19e-07, Dfxn = 2.39e-08\n",
      "Guess = -29.61, fxn = 6.77e-08, Dfxn = 1.14e-08\n",
      "Guess = -35.55, fxn = 1.13e-08, Dfxn = 7.91e-09\n",
      "Guess = -36.98, fxn = 4.37e-10, Dfxn = 7.31e-09\n",
      "Solution, -36.98, found after 7 iterations.\n",
      "Guess = -1.00, fxn = 6.05e-06, Dfxn = 2.64e-06\n",
      "Guess = -3.29, fxn = 2.66e-06, Dfxn = 7.76e-07\n",
      "Guess = -6.71, fxn = 1.22e-06, Dfxn = 2.20e-07\n",
      "Guess = -12.25, fxn = 5.46e-07, Dfxn = 6.66e-08\n",
      "Guess = -20.45, fxn = 2.19e-07, Dfxn = 2.39e-08\n",
      "Guess = -29.61, fxn = 6.77e-08, Dfxn = 1.14e-08\n",
      "Guess = -35.55, fxn = 1.13e-08, Dfxn = 7.91e-09\n",
      "Guess = -36.98, fxn = 4.37e-10, Dfxn = 7.31e-09\n",
      "Solution, -36.98, found after 7 iterations.\n",
      "Guess = -1.00, fxn = 6.05e-06, Dfxn = 2.64e-06\n",
      "Guess = -3.29, fxn = 2.66e-06, Dfxn = 7.76e-07\n",
      "Guess = -6.71, fxn = 1.22e-06, Dfxn = 2.20e-07\n",
      "Guess = -12.25, fxn = 5.46e-07, Dfxn = 6.66e-08\n",
      "Guess = -20.45, fxn = 2.19e-07, Dfxn = 2.39e-08\n",
      "Guess = -29.61, fxn = 6.77e-08, Dfxn = 1.14e-08\n",
      "Guess = -35.55, fxn = 1.13e-08, Dfxn = 7.91e-09\n",
      "Guess = -36.98, fxn = 4.37e-10, Dfxn = 7.31e-09\n",
      "Solution, -36.98, found after 7 iterations.\n",
      "Guess = -1.00, fxn = 6.05e-06, Dfxn = 2.64e-06\n",
      "Guess = -3.29, fxn = 2.66e-06, Dfxn = 7.76e-07\n",
      "Guess = -6.71, fxn = 1.22e-06, Dfxn = 2.20e-07\n",
      "Guess = -12.25, fxn = 5.46e-07, Dfxn = 6.66e-08\n",
      "Guess = -20.45, fxn = 2.19e-07, Dfxn = 2.39e-08\n",
      "Guess = -29.61, fxn = 6.77e-08, Dfxn = 1.14e-08\n",
      "Guess = -35.55, fxn = 1.13e-08, Dfxn = 7.91e-09\n",
      "Guess = -36.98, fxn = 4.37e-10, Dfxn = 7.31e-09\n",
      "Solution, -36.98, found after 7 iterations.\n",
      "Guess = -1.00, fxn = 6.05e-06, Dfxn = 2.64e-06\n",
      "Guess = -3.29, fxn = 2.66e-06, Dfxn = 7.76e-07\n",
      "Guess = -6.71, fxn = 1.22e-06, Dfxn = 2.20e-07\n",
      "Guess = -12.25, fxn = 5.46e-07, Dfxn = 6.66e-08\n",
      "Guess = -20.45, fxn = 2.19e-07, Dfxn = 2.39e-08\n",
      "Guess = -29.61, fxn = 6.77e-08, Dfxn = 1.14e-08\n",
      "Guess = -35.55, fxn = 1.13e-08, Dfxn = 7.91e-09\n",
      "Guess = -36.98, fxn = 4.37e-10, Dfxn = 7.31e-09\n",
      "Solution, -36.98, found after 7 iterations.\n",
      "Guess = -1.00, fxn = 6.05e-06, Dfxn = 2.64e-06\n",
      "Guess = -3.29, fxn = 2.66e-06, Dfxn = 7.76e-07\n",
      "Guess = -6.71, fxn = 1.22e-06, Dfxn = 2.20e-07\n",
      "Guess = -12.25, fxn = 5.46e-07, Dfxn = 6.66e-08\n",
      "Guess = -20.45, fxn = 2.19e-07, Dfxn = 2.39e-08\n",
      "Guess = -29.61, fxn = 6.77e-08, Dfxn = 1.14e-08\n",
      "Guess = -35.55, fxn = 1.13e-08, Dfxn = 7.91e-09\n",
      "Guess = -36.98, fxn = 4.37e-10, Dfxn = 7.31e-09\n",
      "Solution, -36.98, found after 7 iterations.\n",
      "Guess = -1.00, fxn = 6.05e-06, Dfxn = 2.64e-06\n",
      "Guess = -3.29, fxn = 2.66e-06, Dfxn = 7.76e-07\n",
      "Guess = -6.71, fxn = 1.22e-06, Dfxn = 2.20e-07\n",
      "Guess = -12.25, fxn = 5.46e-07, Dfxn = 6.66e-08\n",
      "Guess = -20.45, fxn = 2.19e-07, Dfxn = 2.39e-08\n",
      "Guess = -29.61, fxn = 6.77e-08, Dfxn = 1.14e-08\n",
      "Guess = -35.55, fxn = 1.13e-08, Dfxn = 7.91e-09\n",
      "Guess = -36.98, fxn = 4.37e-10, Dfxn = 7.31e-09\n",
      "Solution, -36.98, found after 7 iterations.\n",
      "Guess = -1.00, fxn = 6.05e-06, Dfxn = 2.64e-06\n",
      "Guess = -3.29, fxn = 2.66e-06, Dfxn = 7.76e-07\n",
      "Guess = -6.71, fxn = 1.22e-06, Dfxn = 2.20e-07\n",
      "Guess = -12.25, fxn = 5.46e-07, Dfxn = 6.66e-08\n",
      "Guess = -20.45, fxn = 2.19e-07, Dfxn = 2.39e-08\n",
      "Guess = -29.61, fxn = 6.77e-08, Dfxn = 1.14e-08\n",
      "Guess = -35.55, fxn = 1.13e-08, Dfxn = 7.91e-09\n",
      "Guess = -36.98, fxn = 4.37e-10, Dfxn = 7.31e-09\n",
      "Solution, -36.98, found after 7 iterations.\n",
      "Guess = -1.00, fxn = 6.05e-06, Dfxn = 2.64e-06\n",
      "Guess = -3.29, fxn = 2.66e-06, Dfxn = 7.76e-07\n",
      "Guess = -6.71, fxn = 1.22e-06, Dfxn = 2.20e-07\n",
      "Guess = -12.25, fxn = 5.46e-07, Dfxn = 6.66e-08\n",
      "Guess = -20.45, fxn = 2.19e-07, Dfxn = 2.39e-08\n",
      "Guess = -29.61, fxn = 6.77e-08, Dfxn = 1.14e-08\n",
      "Guess = -35.55, fxn = 1.13e-08, Dfxn = 7.91e-09\n",
      "Guess = -36.98, fxn = 4.37e-10, Dfxn = 7.31e-09\n",
      "Solution, -36.98, found after 7 iterations.\n",
      "Guess = -1.00, fxn = 6.05e-06, Dfxn = 2.64e-06\n",
      "Guess = -3.29, fxn = 2.66e-06, Dfxn = 7.76e-07\n",
      "Guess = -6.71, fxn = 1.22e-06, Dfxn = 2.20e-07\n",
      "Guess = -12.25, fxn = 5.46e-07, Dfxn = 6.66e-08\n",
      "Guess = -20.45, fxn = 2.19e-07, Dfxn = 2.39e-08\n",
      "Guess = -29.61, fxn = 6.77e-08, Dfxn = 1.14e-08\n",
      "Guess = -35.55, fxn = 1.13e-08, Dfxn = 7.91e-09\n",
      "Guess = -36.98, fxn = 4.37e-10, Dfxn = 7.31e-09\n",
      "Solution, -36.98, found after 7 iterations.\n",
      "Guess = -1.00, fxn = 6.05e-06, Dfxn = 2.64e-06\n",
      "Guess = -3.29, fxn = 2.66e-06, Dfxn = 7.76e-07\n",
      "Guess = -6.71, fxn = 1.22e-06, Dfxn = 2.20e-07\n",
      "Guess = -12.25, fxn = 5.46e-07, Dfxn = 6.66e-08\n",
      "Guess = -20.45, fxn = 2.19e-07, Dfxn = 2.39e-08\n",
      "Guess = -29.61, fxn = 6.77e-08, Dfxn = 1.14e-08\n",
      "Guess = -35.55, fxn = 1.13e-08, Dfxn = 7.91e-09\n",
      "Guess = -36.98, fxn = 4.37e-10, Dfxn = 7.31e-09\n",
      "Solution, -36.98, found after 7 iterations.\n",
      "Guess = -1.00, fxn = 6.05e-06, Dfxn = 2.64e-06\n",
      "Guess = -3.29, fxn = 2.66e-06, Dfxn = 7.76e-07\n",
      "Guess = -6.71, fxn = 1.22e-06, Dfxn = 2.20e-07\n",
      "Guess = -12.25, fxn = 5.46e-07, Dfxn = 6.66e-08\n",
      "Guess = -20.45, fxn = 2.19e-07, Dfxn = 2.39e-08\n",
      "Guess = -29.61, fxn = 6.77e-08, Dfxn = 1.14e-08\n",
      "Guess = -35.55, fxn = 1.13e-08, Dfxn = 7.91e-09\n",
      "Guess = -36.98, fxn = 4.37e-10, Dfxn = 7.31e-09\n",
      "Solution, -36.98, found after 7 iterations.\n",
      "Guess = -1.00, fxn = 6.05e-06, Dfxn = 2.64e-06\n",
      "Guess = -3.29, fxn = 2.66e-06, Dfxn = 7.76e-07\n",
      "Guess = -6.71, fxn = 1.22e-06, Dfxn = 2.20e-07\n",
      "Guess = -12.25, fxn = 5.46e-07, Dfxn = 6.66e-08\n",
      "Guess = -20.45, fxn = 2.19e-07, Dfxn = 2.39e-08\n",
      "Guess = -29.61, fxn = 6.77e-08, Dfxn = 1.14e-08\n",
      "Guess = -35.55, fxn = 1.13e-08, Dfxn = 7.91e-09\n",
      "Guess = -36.98, fxn = 4.37e-10, Dfxn = 7.31e-09\n",
      "Solution, -36.98, found after 7 iterations.\n",
      "Guess = -1.00, fxn = 6.05e-06, Dfxn = 2.64e-06\n",
      "Guess = -3.29, fxn = 2.66e-06, Dfxn = 7.76e-07\n",
      "Guess = -6.71, fxn = 1.22e-06, Dfxn = 2.20e-07\n",
      "Guess = -12.25, fxn = 5.46e-07, Dfxn = 6.66e-08\n",
      "Guess = -20.45, fxn = 2.19e-07, Dfxn = 2.39e-08\n",
      "Guess = -29.61, fxn = 6.77e-08, Dfxn = 1.14e-08\n",
      "Guess = -35.55, fxn = 1.13e-08, Dfxn = 7.91e-09\n",
      "Solution, -35.55, found after 6 iterations.\n",
      "Guess = -1.00, fxn = 6.05e-06, Dfxn = 2.64e-06\n",
      "Guess = -3.29, fxn = 2.66e-06, Dfxn = 7.76e-07\n",
      "Guess = -6.71, fxn = 1.22e-06, Dfxn = 2.20e-07\n",
      "Guess = -12.25, fxn = 5.46e-07, Dfxn = 6.66e-08\n",
      "Guess = -20.45, fxn = 2.19e-07, Dfxn = 2.39e-08\n",
      "Guess = -29.61, fxn = 6.77e-08, Dfxn = 1.14e-08\n",
      "Guess = -35.55, fxn = 1.13e-08, Dfxn = 7.91e-09\n",
      "Solution, -35.55, found after 6 iterations.\n",
      "Guess = -1.00, fxn = 6.05e-06, Dfxn = 2.64e-06\n",
      "Guess = -3.29, fxn = 2.66e-06, Dfxn = 7.76e-07\n",
      "Guess = -6.71, fxn = 1.22e-06, Dfxn = 2.20e-07\n",
      "Guess = -12.25, fxn = 5.46e-07, Dfxn = 6.66e-08\n",
      "Guess = -20.45, fxn = 2.19e-07, Dfxn = 2.39e-08\n",
      "Guess = -29.61, fxn = 6.77e-08, Dfxn = 1.14e-08\n",
      "Guess = -35.55, fxn = 1.13e-08, Dfxn = 7.91e-09\n",
      "Solution, -35.55, found after 6 iterations.\n",
      "Guess = -1.00, fxn = 6.05e-06, Dfxn = 2.64e-06\n",
      "Guess = -3.29, fxn = 2.66e-06, Dfxn = 7.76e-07\n",
      "Guess = -6.71, fxn = 1.22e-06, Dfxn = 2.20e-07\n",
      "Guess = -12.25, fxn = 5.46e-07, Dfxn = 6.66e-08\n",
      "Guess = -20.45, fxn = 2.19e-07, Dfxn = 2.39e-08\n",
      "Guess = -29.61, fxn = 6.77e-08, Dfxn = 1.14e-08\n",
      "Guess = -35.55, fxn = 1.13e-08, Dfxn = 7.91e-09\n",
      "Solution, -35.55, found after 6 iterations.\n",
      "Guess = -1.00, fxn = 6.05e-06, Dfxn = 2.64e-06\n",
      "Guess = -3.29, fxn = 2.66e-06, Dfxn = 7.76e-07\n",
      "Guess = -6.71, fxn = 1.22e-06, Dfxn = 2.20e-07\n",
      "Guess = -12.25, fxn = 5.46e-07, Dfxn = 6.66e-08\n",
      "Guess = -20.45, fxn = 2.19e-07, Dfxn = 2.39e-08\n",
      "Guess = -29.61, fxn = 6.77e-08, Dfxn = 1.14e-08\n",
      "Guess = -35.55, fxn = 1.13e-08, Dfxn = 7.91e-09\n",
      "Solution, -35.55, found after 6 iterations.\n",
      "Guess = -1.00, fxn = 6.05e-06, Dfxn = 2.64e-06\n",
      "Guess = -3.29, fxn = 2.66e-06, Dfxn = 7.76e-07\n",
      "Guess = -6.71, fxn = 1.22e-06, Dfxn = 2.20e-07\n",
      "Guess = -12.25, fxn = 5.46e-07, Dfxn = 6.66e-08\n",
      "Guess = -20.45, fxn = 2.19e-07, Dfxn = 2.39e-08\n",
      "Guess = -29.61, fxn = 6.77e-08, Dfxn = 1.14e-08\n",
      "Guess = -35.55, fxn = 1.13e-08, Dfxn = 7.91e-09\n",
      "Solution, -35.55, found after 6 iterations.\n",
      "Guess = -1.00, fxn = 6.05e-06, Dfxn = 2.64e-06\n",
      "Guess = -3.29, fxn = 2.66e-06, Dfxn = 7.76e-07\n",
      "Guess = -6.71, fxn = 1.22e-06, Dfxn = 2.20e-07\n",
      "Guess = -12.25, fxn = 5.46e-07, Dfxn = 6.66e-08\n",
      "Guess = -20.45, fxn = 2.19e-07, Dfxn = 2.39e-08\n",
      "Guess = -29.61, fxn = 6.77e-08, Dfxn = 1.14e-08\n",
      "Guess = -35.55, fxn = 1.13e-08, Dfxn = 7.91e-09\n",
      "Solution, -35.55, found after 6 iterations.\n",
      "Guess = -1.00, fxn = 6.05e-06, Dfxn = 2.64e-06\n",
      "Guess = -3.29, fxn = 2.66e-06, Dfxn = 7.76e-07\n",
      "Guess = -6.71, fxn = 1.22e-06, Dfxn = 2.20e-07\n",
      "Guess = -12.25, fxn = 5.46e-07, Dfxn = 6.66e-08\n",
      "Guess = -20.45, fxn = 2.19e-07, Dfxn = 2.39e-08\n",
      "Guess = -29.61, fxn = 6.77e-08, Dfxn = 1.14e-08\n",
      "Solution, -29.61, found after 5 iterations.\n",
      "Guess = -1.00, fxn = 6.05e-06, Dfxn = 2.64e-06\n",
      "Guess = -3.29, fxn = 2.66e-06, Dfxn = 7.76e-07\n",
      "Guess = -6.71, fxn = 1.22e-06, Dfxn = 2.20e-07\n",
      "Guess = -12.25, fxn = 5.46e-07, Dfxn = 6.66e-08\n",
      "Guess = -20.45, fxn = 2.19e-07, Dfxn = 2.39e-08\n",
      "Guess = -29.61, fxn = 6.77e-08, Dfxn = 1.14e-08\n",
      "Solution, -29.61, found after 5 iterations.\n",
      "Guess = -1.00, fxn = 6.05e-06, Dfxn = 2.64e-06\n",
      "Guess = -3.29, fxn = 2.66e-06, Dfxn = 7.76e-07\n",
      "Guess = -6.71, fxn = 1.22e-06, Dfxn = 2.20e-07\n",
      "Guess = -12.25, fxn = 5.46e-07, Dfxn = 6.66e-08\n",
      "Guess = -20.45, fxn = 2.19e-07, Dfxn = 2.39e-08\n",
      "Guess = -29.61, fxn = 6.77e-08, Dfxn = 1.14e-08\n",
      "Solution, -29.61, found after 5 iterations.\n",
      "Guess = -1.00, fxn = 6.05e-06, Dfxn = 2.64e-06\n",
      "Guess = -3.29, fxn = 2.66e-06, Dfxn = 7.76e-07\n",
      "Guess = -6.71, fxn = 1.22e-06, Dfxn = 2.20e-07\n",
      "Guess = -12.25, fxn = 5.46e-07, Dfxn = 6.66e-08\n",
      "Guess = -20.45, fxn = 2.19e-07, Dfxn = 2.39e-08\n",
      "Guess = -29.61, fxn = 6.77e-08, Dfxn = 1.14e-08\n",
      "Solution, -29.61, found after 5 iterations.\n",
      "Guess = -1.00, fxn = 6.05e-06, Dfxn = 2.64e-06\n",
      "Guess = -3.29, fxn = 2.66e-06, Dfxn = 7.76e-07\n",
      "Guess = -6.71, fxn = 1.22e-06, Dfxn = 2.20e-07\n",
      "Guess = -12.25, fxn = 5.46e-07, Dfxn = 6.66e-08\n",
      "Guess = -20.45, fxn = 2.19e-07, Dfxn = 2.39e-08\n",
      "Guess = -29.61, fxn = 6.77e-08, Dfxn = 1.14e-08\n",
      "Solution, -29.61, found after 5 iterations.\n",
      "Guess = -1.00, fxn = 6.05e-06, Dfxn = 2.64e-06\n",
      "Guess = -3.29, fxn = 2.66e-06, Dfxn = 7.76e-07\n",
      "Guess = -6.71, fxn = 1.22e-06, Dfxn = 2.20e-07\n",
      "Guess = -12.25, fxn = 5.46e-07, Dfxn = 6.66e-08\n",
      "Guess = -20.45, fxn = 2.19e-07, Dfxn = 2.39e-08\n",
      "Solution, -20.45, found after 4 iterations.\n",
      "Guess = -1.00, fxn = 6.05e-06, Dfxn = 2.64e-06\n",
      "Guess = -3.29, fxn = 2.66e-06, Dfxn = 7.76e-07\n",
      "Guess = -6.71, fxn = 1.22e-06, Dfxn = 2.20e-07\n",
      "Guess = -12.25, fxn = 5.46e-07, Dfxn = 6.66e-08\n",
      "Guess = -20.45, fxn = 2.19e-07, Dfxn = 2.39e-08\n",
      "Solution, -20.45, found after 4 iterations.\n",
      "Guess = -1.00, fxn = 6.05e-06, Dfxn = 2.64e-06\n",
      "Guess = -3.29, fxn = 2.66e-06, Dfxn = 7.76e-07\n",
      "Guess = -6.71, fxn = 1.22e-06, Dfxn = 2.20e-07\n",
      "Guess = -12.25, fxn = 5.46e-07, Dfxn = 6.66e-08\n",
      "Guess = -20.45, fxn = 2.19e-07, Dfxn = 2.39e-08\n",
      "Solution, -20.45, found after 4 iterations.\n",
      "Guess = -1.00, fxn = 6.05e-06, Dfxn = 2.64e-06\n",
      "Guess = -3.29, fxn = 2.66e-06, Dfxn = 7.76e-07\n",
      "Guess = -6.71, fxn = 1.22e-06, Dfxn = 2.20e-07\n",
      "Guess = -12.25, fxn = 5.46e-07, Dfxn = 6.66e-08\n",
      "Guess = -20.45, fxn = 2.19e-07, Dfxn = 2.39e-08\n",
      "Solution, -20.45, found after 4 iterations.\n",
      "Guess = -1.00, fxn = 6.05e-06, Dfxn = 2.64e-06\n",
      "Guess = -3.29, fxn = 2.66e-06, Dfxn = 7.76e-07\n",
      "Guess = -6.71, fxn = 1.22e-06, Dfxn = 2.20e-07\n",
      "Guess = -12.25, fxn = 5.46e-07, Dfxn = 6.66e-08\n",
      "Solution, -12.25, found after 3 iterations.\n",
      "Guess = -1.00, fxn = 6.05e-06, Dfxn = 2.64e-06\n",
      "Guess = -3.29, fxn = 2.66e-06, Dfxn = 7.76e-07\n",
      "Guess = -6.71, fxn = 1.22e-06, Dfxn = 2.20e-07\n",
      "Guess = -12.25, fxn = 5.46e-07, Dfxn = 6.66e-08\n",
      "Solution, -12.25, found after 3 iterations.\n",
      "Guess = -1.00, fxn = 6.05e-06, Dfxn = 2.64e-06\n",
      "Guess = -3.29, fxn = 2.66e-06, Dfxn = 7.76e-07\n",
      "Guess = -6.71, fxn = 1.22e-06, Dfxn = 2.20e-07\n",
      "Guess = -12.25, fxn = 5.46e-07, Dfxn = 6.66e-08\n",
      "Solution, -12.25, found after 3 iterations.\n",
      "Guess = -1.00, fxn = 6.05e-06, Dfxn = 2.64e-06\n",
      "Guess = -3.29, fxn = 2.66e-06, Dfxn = 7.76e-07\n",
      "Guess = -6.71, fxn = 1.22e-06, Dfxn = 2.20e-07\n",
      "Guess = -12.25, fxn = 5.46e-07, Dfxn = 6.66e-08\n",
      "Solution, -12.25, found after 3 iterations.\n",
      "Guess = -1.00, fxn = 6.05e-06, Dfxn = 2.64e-06\n",
      "Guess = -3.29, fxn = 2.66e-06, Dfxn = 7.76e-07\n",
      "Guess = -6.71, fxn = 1.22e-06, Dfxn = 2.20e-07\n",
      "Solution, -6.71, found after 2 iterations.\n",
      "Guess = -1.00, fxn = 6.05e-06, Dfxn = 2.64e-06\n",
      "Guess = -3.29, fxn = 2.66e-06, Dfxn = 7.76e-07\n",
      "Guess = -6.71, fxn = 1.22e-06, Dfxn = 2.20e-07\n",
      "Solution, -6.71, found after 2 iterations.\n",
      "Guess = -1.00, fxn = 6.05e-06, Dfxn = 2.64e-06\n",
      "Guess = -3.29, fxn = 2.66e-06, Dfxn = 7.76e-07\n",
      "Guess = -6.71, fxn = 1.22e-06, Dfxn = 2.20e-07\n",
      "Solution, -6.71, found after 2 iterations.\n",
      "Guess = -1.00, fxn = 6.05e-06, Dfxn = 2.64e-06\n",
      "Guess = -3.29, fxn = 2.66e-06, Dfxn = 7.76e-07\n",
      "Solution, -3.29, found after 1 iterations.\n",
      "Guess = -1.00, fxn = 6.05e-06, Dfxn = 2.64e-06\n",
      "Guess = -3.29, fxn = 2.66e-06, Dfxn = 7.76e-07\n",
      "Solution, -3.29, found after 1 iterations.\n",
      "Guess = -1.00, fxn = 6.05e-06, Dfxn = 2.64e-06\n",
      "Guess = -3.29, fxn = 2.66e-06, Dfxn = 7.76e-07\n",
      "Solution, -3.29, found after 1 iterations.\n",
      "Guess = -1.00, fxn = 6.05e-06, Dfxn = 2.64e-06\n",
      "Solution, -1.00, found after 0 iterations.\n",
      "Guess = -1.00, fxn = 6.05e-06, Dfxn = 2.64e-06\n",
      "Solution, -1.00, found after 0 iterations.\n",
      "Guess = -1.00, fxn = 6.05e-06, Dfxn = 2.64e-06\n",
      "Solution, -1.00, found after 0 iterations.\n"
     ]
    },
    {
     "data": {
      "image/png": "[encoded data removed]",
      "text/plain": [
       "<Figure size 640x480 with 2 Axes>"
      ]
     },
     "metadata": {},
     "output_type": "display_data"
    }
   ],
   "source": [
    "fig, axs = plt.subplots(2,1, sharex=True)\n",
    "for ei in e:\n",
    "    pn, iter = newton(-1, F, DF, error=ei, maxiter=1000000)\n",
    "    axs[0].semilogx(ei, pn, 'r*')\n",
    "    axs[1].semilogx(ei, iter, 'b.')\n",
    "\n",
    "axs[1].set_xlabel('Error')\n",
    "axs[1].set_ylabel('Iterations to Converge')\n",
    "axs[0].set_ylabel('Approx. Soln')\n",
    "plt.show()"
   ]
  },
  {
   "cell_type": "code",
   "execution_count": 7,
   "metadata": {},
   "outputs": [
    {
     "data": {
      "text/plain": [
       "<matplotlib.legend.Legend at 0x13fb318b0>"
      ]
     },
     "execution_count": 7,
     "metadata": {},
     "output_type": "execute_result"
    },
    {
     "data": {
      "image/png": "[encoded data removed]",
      "text/plain": [
       "<Figure size 640x480 with 1 Axes>"
      ]
     },
     "metadata": {},
     "output_type": "display_data"
    }
   ],
   "source": [
    "x = np.linspace(-1,-0.01, 100)\n",
    "#y = Fplot(x)\n",
    "yg = g(x)\n",
    "yh = 1/h(x)\n",
    "#plt.plot(x,y, label=r\"y\")\n",
    "plt.plot(x,yg, label=r'$y_g$')\n",
    "plt.plot(x,yh, label=r'$y_h$')\n",
    "plt.grid()\n",
    "plt.ylabel('')\n",
    "plt.xlabel(r'$\\Phi$')\n",
    "plt.legend()"
   ]
  },
  {
   "cell_type": "code",
   "execution_count": 8,
   "metadata": {},
   "outputs": [
    {
     "name": "stdout",
     "output_type": "stream",
     "text": [
      "Solution, -27.02854552150325, found after 779 iterations.\n",
      "(-27.02854552150325, 779)\n"
     ]
    }
   ],
   "source": [
    "x_approx = newton(1, F, DF, 1e-2, 10000)\n",
    "print(x_approx)\n",
    "        "
   ]
  },
  {
   "cell_type": "code",
   "execution_count": 9,
   "metadata": {},
   "outputs": [
    {
     "data": {
      "text/plain": [
       "Text(0, 0.5, '$\\\\frac{e^{\\\\Phi} - 1}{\\\\Phi}$')"
      ]
     },
     "execution_count": 9,
     "metadata": {},
     "output_type": "execute_result"
    },
    {
     "data": {
      "image/png": "[encoded data removed]",
      "text/plain": [
       "<Figure size 640x480 with 1 Axes>"
      ]
     },
     "metadata": {},
     "output_type": "display_data"
    }
   ],
   "source": [
    "def B(x):\n",
    "    return (np.exp(x)-1)/x\n",
    "x = np.linspace(-200, -10)\n",
    "Y = B(x)\n",
    "plt.plot(x, Y)\n",
    "plt.hlines(1e-2, min(x), max(x), colors='red')\n",
    "plt.grid(which='both')\n",
    "plt.xlabel(r\"$\\Phi = \\frac{V_a - \\phi_{sp}}{T_e}$\")\n",
    "plt.ylabel(r\"$\\frac{e^{\\Phi} - 1}{\\Phi}$\")"
   ]
  },
  {
   "cell_type": "code",
   "execution_count": 13,
   "metadata": {},
   "outputs": [
    {
     "data": {
      "text/plain": [
       "<matplotlib.legend.Legend at 0x13ffdbaf0>"
      ]
     },
     "execution_count": 13,
     "metadata": {},
     "output_type": "execute_result"
    },
    {
     "data": {
      "image/png": "[encoded data removed]",
      "text/plain": [
       "<Figure size 640x480 with 1 Axes>"
      ]
     },
     "metadata": {},
     "output_type": "display_data"
    }
   ],
   "source": [
    "Y2 = B(x) - ((2.27e-7)/(1.04e-5))\n",
    "Y_act = F(x)\n",
    "#plt.plot(x, Y2, label='Manual Implementation')\n",
    "plt.plot(x, Y_act, label = 'Using F(x)')\n",
    "plt.grid(which='both')\n",
    "plt.xlabel(r\"$\\Phi = \\frac{V_a - \\phi_{sp}}{T_e}$\")\n",
    "plt.ylabel(r\"$\\frac{e^{\\Phi} - 1}{\\Phi} - \\frac{R_{ebs}I_b}{C}$\")\n",
    "plt.legend()\n"
   ]
  },
  {
   "cell_type": "code",
   "execution_count": 14,
   "metadata": {},
   "outputs": [
    {
     "name": "stdout",
     "output_type": "stream",
     "text": [
      "     fun: -2.69899999997578e-07\n",
      " message: 'Solution found.'\n",
      "    nfev: 37\n",
      "     nit: 37\n",
      "  status: 0\n",
      " success: True\n",
      "       x: -99999.99757799444\n"
     ]
    }
   ],
   "source": [
    "from scipy.optimize import minimize_scalar\n",
    "PHI = minimize_scalar(F, bounds=[-100000, -10], method='bounded')\n",
    "print(PHI)"
   ]
  }
 ],
 "metadata": {
  "kernelspec": {
   "display_name": "Python 3",
   "language": "python",
   "name": "python3"
  },
  "language_info": {
   "codemirror_mode": {
    "name": "ipython",
    "version": 3
   },
   "file_extension": ".py",
   "mimetype": "text/x-python",
   "name": "python",
   "nbconvert_exporter": "python",
   "pygments_lexer": "ipython3",
   "version": "3.9.6"
  }
 },
 "nbformat": 4,
 "nbformat_minor": 2
}
