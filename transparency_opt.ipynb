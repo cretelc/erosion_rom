{
 "cells": [
  {
   "cell_type": "code",
   "execution_count": 41,
   "metadata": {},
   "outputs": [],
   "source": [
    "import numpy as np\n",
    "import matplotlib.pyplot as plt\n",
    "from scipy.constants import elementary_charge as q\n",
    "from scipy.constants import Boltzmann as kB\n",
    "from scipy.constants import epsilon_0 as eps0\n",
    "from scipy.constants import Avogadro as N_A\n",
    "from uncertainties import ufloat\n",
    "from uncertainties.umath import sqrt as usqrt\n",
    "\n"
   ]
  },
  {
   "cell_type": "code",
   "execution_count": 52,
   "metadata": {},
   "outputs": [],
   "source": [
    "def eV2J(eV):\n",
    "    return eV*q \n",
    "\n",
    "def AMU2kg(AMU):\n",
    "    return AMU * (1e-3) / N_A\n",
    "\n",
    "## Current Densities\n",
    "def child_langmuir(VT, M, d):\n",
    "    M_kg = AMU2kg(M)\n",
    "    constants = 4 * eps0 * usqrt(2*q) / 9\n",
    "    variables = VT**(3/2) * (d**(-2)) * (M_kg**(-1/2))\n",
    "    return constants * variables\n",
    "\n",
    "def bohm(ni, Te, M):\n",
    "    ''' Calculate bohm current density \n",
    "     \n",
    "    Keyword Arguments \n",
    "    ni -- ion density or plasma density (m-3)\n",
    "    Te -- electron temperature (eV)\n",
    "    M  -- ion mass (kg)\n",
    "\n",
    "    '''\n",
    "    Te_J = eV2J(Te)\n",
    "    M_kg = AMU2kg(M)\n",
    "    return (1/2) * ni * q * usqrt(Te_J/M_kg)"
   ]
  },
  {
   "cell_type": "code",
   "execution_count": 45,
   "metadata": {},
   "outputs": [],
   "source": [
    "def transparency_ratio(ne, Te_eV, V, d, R, rs, ra, N, eta=1):\n",
    "    return (eps0/ne) * usqrt(2/(q*Te_eV)) * (V**(3/2) / (d**2)) * ((R**4) / ((N * rs * ra)**2))\n",
    "\n",
    "#def ion_transparency(ne, Te_eV, V, d, R, rs, ra, N, eta=1):\n",
    "#    return (eps0/ne) * np.sqrt(2/(q*Te_eV)) * (V**(3/2) / (d**2)) * ((R**2) / (N * rs**2))\n",
    "\n",
    "def ion_transparency(jcl, jbohm, Ab, At, N, alpha=1):\n",
    "    return N*alpha * jcl * Ab / (jbohm * At)\n",
    "\n",
    "def ion_transparency(jcl, jbohm, f, alpha=1):\n",
    "    ''' Calculates ion transparency \n",
    "    \n",
    "    Arguments:\n",
    "    jcl -- child langmuir current density, (A m-3)\n",
    "    jbohm -- bohm current density, (A m-3)\n",
    "    f -- screen grid open area fraction\n",
    "    '''\n",
    "    return alpha * jcl * f / (jbohm)"
   ]
  },
  {
   "cell_type": "code",
   "execution_count": null,
   "metadata": {},
   "outputs": [
    {
     "name": "stdout",
     "output_type": "stream",
     "text": [
      "Ion transparency (low): 0.597 +\\-0.146\n",
      "Ion transparency (low): 0.896 +\\-0.22\n"
     ]
    }
   ],
   "source": [
    "R  = ufloat(15/100, 0.15*0.1)\n",
    "rs = 0.85/1000\n",
    "ra = 0.57/1000\n",
    "lg = 1.2/1000\n",
    "N  = 16575\n",
    "V  = ufloat(2000, 10)\n",
    "Te = ufloat(15, 5) # eV\n",
    "M  = 131 # AMU\n",
    "alpha = np.array([0.8, 1.2])\n",
    "ne    = ufloat(1e18, 1e17)\n",
    "open_area_fractions = {'nstar': ufloat(0.67, 0.1)}\n",
    "\n",
    "oaf    = open_area_fractions['nstar']\n",
    "jcl    = child_langmuir(V, M, lg)\n",
    "jBohm  = bohm(ne, Te, M)\n",
    "beta_i = ion_transparency(jcl, jBohm, oaf, alpha)\n",
    "\n",
    "print(f\"Ion transparency (low): {beta_i[0].n:0.3} +\\-{beta_i[0].s:0.3}\")\n",
    "print(f\"Ion transparency (low): {beta_i[1].n:0.3} +\\-{beta_i[1].s:0.3}\")\n",
    "\n"
   ]
  },
  {
   "cell_type": "code",
   "execution_count": null,
   "metadata": {},
   "outputs": [],
   "source": []
  }
 ],
 "metadata": {
  "kernelspec": {
   "display_name": "Python 3",
   "language": "python",
   "name": "python3"
  },
  "language_info": {
   "codemirror_mode": {
    "name": "ipython",
    "version": 3
   },
   "file_extension": ".py",
   "mimetype": "text/x-python",
   "name": "python",
   "nbconvert_exporter": "python",
   "pygments_lexer": "ipython3",
   "version": "3.9.6"
  }
 },
 "nbformat": 4,
 "nbformat_minor": 2
}
