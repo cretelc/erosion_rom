{
 "cells": [
  {
   "cell_type": "code",
   "execution_count": 1,
   "metadata": {},
   "outputs": [],
   "source": [
    "import collision_erosion_library as cel\n",
    "from clausing import calculateClausingFactor, simpleClausingFactor\n",
    "import numpy as np\n",
    "import matplotlib.pyplot as plt"
   ]
  },
  {
   "cell_type": "code",
   "execution_count": 2,
   "metadata": {},
   "outputs": [],
   "source": [
    "def calculate_parameters_from_clausing(clausing):\n",
    "    C = clausing \n",
    "    ni = (-1.65*C + 2.228) * (1e17)\n",
    "    no = (-5.281*C + 3.050) * (1e18)\n",
    "    y  = (0.2562*C + 0.0203)\n",
    "    Te = (1.6636*C + 6.3558)\n",
    "    return ni, no, y, Te\n",
    "\n",
    "def calculate_ab(a):\n",
    "    b = 1/(a-1)\n",
    "    print(b)\n",
    "    return b"
   ]
  },
  {
   "cell_type": "code",
   "execution_count": 3,
   "metadata": {},
   "outputs": [
    {
     "name": "stdout",
     "output_type": "stream",
     "text": [
      "-2.0\n"
     ]
    }
   ],
   "source": [
    "b = calculate_ab(0.5)"
   ]
  },
  {
   "cell_type": "code",
   "execution_count": 4,
   "metadata": {},
   "outputs": [],
   "source": [
    "j_bar = 1 \n",
    "n0_sa = 2e18\n",
    "double_ion_ratio = 0.08 #ufloat(0.08, 0.05)\n",
    "lg     = 0.7e-3\n",
    "rs     = 1.91/2\n",
    "ra0    = 1.14/2\n",
    "ts     = 0.38 # screen grid thickness, mm\n",
    "ta     = 0.38 # accel grid thickness, mm\n",
    "s      = 2.24 # aperture spacing, mm\n",
    "Vd     = 1500\n",
    "Va     = -190\n",
    "M      = 2.18e-25 # kg, xenon particle mass\n",
    "Ec     = 400 #ufloat(400, 200) # Energy at collision, using the average of the energy\n",
    "E_cex  = 500 # Energy of CEX ions colliding with grid\n",
    "M_grid = 95.95 # g/mol\n",
    "rho_grid = 10.22 * (100)**3 # g/m3\n",
    "t = np.linspace(0, 30)\n"
   ]
  },
  {
   "cell_type": "code",
   "execution_count": 5,
   "metadata": {},
   "outputs": [
    {
     "data": {
      "image/png": "[encoded data removed]",
      "text/plain": [
       "<Figure size 640x480 with 1 Axes>"
      ]
     },
     "metadata": {},
     "output_type": "display_data"
    }
   ],
   "source": [
    "# Initial Clausing Factor\n",
    "CF = simpleClausingFactor(ra0, s)\n",
    "ni, n0, double_ion_ratio, Te = calculate_parameters_from_clausing(CF)\n",
    "\n",
    "# Initial Parameters\n",
    "hp0 = (j_bar, double_ion_ratio)\n",
    "gg0 = (rs, ra0, lg, s)\n",
    "gm0 = (M_grid, rho_grid)\n",
    "mi0 = (n0, Ec, E_cex, Vd, Va, M)\n",
    "ra_nom, _, _, _, _, _= cel.accel_radius_erosion_model(t, hp0, gg0, gm0, mi0)#, a = 0.563)\n",
    "plt.plot(t, ra_nom)\n",
    "plt.show()"
   ]
  },
  {
   "cell_type": "code",
   "execution_count": null,
   "metadata": {},
   "outputs": [],
   "source": [
    "\n",
    "ra = np.zeros(len(t))\n",
    "CF_arr = np.zeros(len(t))\n",
    "CF_arr[0] = CF\n",
    "ra[0] = ra0\n",
    "y = double_ion_ratio\n",
    "fig, axs = plt.subplots(2, 2, figsize=(12,8), sharex=True)\n",
    "flat_axs = axs.flatten()\n",
    "for i, ti in enumerate(t[:-1]):\n",
    "\n",
    "    i+=1\n",
    "    hp = (j_bar, y)\n",
    "    #gg = (rs, ra0, lg, s)\n",
    "    gg = (rs, ra[i-1], lg, s)\n",
    "    gm = (M_grid, rho_grid)\n",
    "    mi = (n0, Ec, E_cex, Vd, Va, M)\n",
    "    #rai = cel.accel_radius_erosion_model(t[i], hp, gg, gm, mi, a = .563)\n",
    "    ra[i], CF, ni, n0, y, Te = cel.accel_radius_erosion_model(t[i], hp, gg, gm, mi)#, a = 1/2, b=-2)\n",
    "    #ra[i] = rai\n",
    "    #CF = calculateClausingFactor(131.3, rs*2, ts, rai*2, ta, lg)\n",
    "    CF = simpleClausingFactor(ra[i], s)\n",
    "    CF_arr[i] = CF\n",
    "    ni, n0, y, Te = calculate_parameters_from_clausing(CF)\n",
    "\n",
    "    flat_axs[0].plot(ti, ni, 'r*')\n",
    "    flat_axs[1].semilogy(ti, n0, 'r*')\n",
    "    flat_axs[2].plot(ti, y, 'r*')\n",
    "    flat_axs[3].plot(ti, Te, 'r*')\n",
    "\n",
    "flat_axs[0].set_ylabel(r'Discharge Ion Density $[m^{-3}]$')\n",
    "flat_axs[1].set_ylabel(r'Discharge Neutral Density $[m^{-3}]$')\n",
    "flat_axs[2].set_ylabel(r'Double Ion Ration, $\\gamma$')\n",
    "flat_axs[3].set_ylabel(r'Discahrge Electron Temperature $[eV]$')\n",
    "\n",
    "plt.show()"
   ]
  },
  {
   "cell_type": "code",
   "execution_count": null,
   "metadata": {},
   "outputs": [],
   "source": [
    "CF_arr"
   ]
  },
  {
   "cell_type": "code",
   "execution_count": null,
   "metadata": {},
   "outputs": [],
   "source": [
    "plt.plot(t, ra, label = 'with Clausing Factor')\n",
    "plt.plot(t, ra_nom, label = 'without Clausing Factor')\n",
    "#plt.ylim(0, 1.3)\n",
    "plt.legend()"
   ]
  },
  {
   "cell_type": "code",
   "execution_count": null,
   "metadata": {},
   "outputs": [],
   "source": [
    "ra"
   ]
  },
  {
   "cell_type": "code",
   "execution_count": null,
   "metadata": {},
   "outputs": [],
   "source": []
  }
 ],
 "metadata": {
  "kernelspec": {
   "display_name": "Python 3",
   "language": "python",
   "name": "python3"
  },
  "language_info": {
   "codemirror_mode": {
    "name": "ipython",
    "version": 3
   },
   "file_extension": ".py",
   "mimetype": "text/x-python",
   "name": "python",
   "nbconvert_exporter": "python",
   "pygments_lexer": "ipython3",
   "version": "3.9.6"
  }
 },
 "nbformat": 4,
 "nbformat_minor": 2
}
