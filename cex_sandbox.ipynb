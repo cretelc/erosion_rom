{
 "cells": [
  {
   "cell_type": "code",
   "execution_count": 38,
   "metadata": {},
   "outputs": [
    {
     "name": "stdout",
     "output_type": "stream",
     "text": [
      "Bohr radius = 5.29177210903e-11\n",
      "Elem. Charge = 1.602176634e-19\n",
      "Epsilon_0 = 8.8541878128e-12\n",
      "Electron mass = 9.1093837015e-31\n",
      "Boltzmann Constant = 1.380649e-23\n"
     ]
    }
   ],
   "source": [
    "import numpy as np\n",
    "import matplotlib.pyplot as plt\n",
    "from scipy.constants import elementary_charge as q\n",
    "from scipy.constants import electron_mass as me\n",
    "from scipy.constants import physical_constants\n",
    "from scipy.constants import epsilon_0 as eps0\n",
    "from scipy.constants import Boltzmann as kB\n",
    "from scipy.constants import Avogadro as N_A\n",
    "from random import uniform as uni\n",
    "from uncertainties import ufloat\n",
    "import eckstein_yield as ey\n",
    "\n",
    "aB = physical_constants['Bohr radius'][0]\n",
    "print(f\"Bohr radius = {aB}\")\n",
    "print(f\"Elem. Charge = {q}\")\n",
    "print(f\"Epsilon_0 = {eps0}\")\n",
    "print(f\"Electron mass = {me}\")\n",
    "print(f\"Boltzmann Constant = {kB}\")"
   ]
  },
  {
   "cell_type": "code",
   "execution_count": null,
   "metadata": {},
   "outputs": [
    {
     "data": {
      "text/plain": [
       "2.175306177997739e-25"
      ]
     },
     "execution_count": 43,
     "metadata": {},
     "output_type": "execute_result"
    }
   ],
   "source": [
    "def bohm_current_density(n0, Te_eV, M):\n",
    "    Te = Te_eV * q\n",
    "    c = 0.606\n",
    "    return c* n0 * q * (Te/M)**0.5\n",
    "\n",
    "def j_CL(M , V, d):\n",
    "    ''' Calculates the Child-Langmuir current density\n",
    "    \n",
    "    Arguments\n",
    "    M -- ion mass, kg \n",
    "    V -- total potential, Vd - Va\n",
    "    d -- intergrid distance\n",
    "    '''\n",
    "    return (4 * eps0 / 9) * (2 * q / M)**(0.5) * (V**(3/2) / (d**2))\n",
    "\n",
    "M_Xe = 131\n",
    "M = M_Xe / N_A # g\n",
    "M_kg = M / 1000 # kg\n",
    "\n",
    "M_kg"
   ]
  },
  {
   "cell_type": "code",
   "execution_count": 44,
   "metadata": {},
   "outputs": [
    {
     "name": "stdout",
     "output_type": "stream",
     "text": [
      "Bohm current density:           15.37+/-8.59 A m-2\n",
      "Bohm current:                   0.04+/-0.02 mA \n",
      "Center current:                 0.300+/-0.200 mA\n",
      "Actual-to-Bohm Current ratio:   6.811+/-5.926\n",
      "Child-Langmuir current density: 237.88 A m-2\n",
      "Actual Avg. Current Density:    24.90 A m-2\n",
      "Actual Center Current Density:  104.70+/-69.80 A m-2\n",
      " --- \n",
      "Bohm-to-CL ratio:               0.06462+/-0.03613 \n",
      "B_avg-to-CL ratio:              0.10467 \n",
      "B_avg-to-Bohm ratio:            1.61965+/-0.90541 \n",
      "B_cent-to-CL ratio:             0.44015+/-0.29343 \n",
      "B_cent-to-Bohm ratio:           6.81090+/-5.92565 \n"
     ]
    }
   ],
   "source": [
    "ni = ufloat(1e17, 0.5e17)   # m-3\n",
    "Te_eV = ufloat(5, 2.5)   # eV\n",
    "V = 1500    # V\n",
    "d = (0.38+0.7) / 1000 # m\n",
    "Rth = 0.15\n",
    "IB = 1.76\n",
    "Ib = ufloat(3e-4, 2e-4)\n",
    "rs = (1.91/2) / 1000\n",
    "\n",
    "jBohm = bohm_current_density(ni, Te_eV, M_kg)\n",
    "IBohm = jBohm * np.pi * rs*rs\n",
    "jCL   = j_CL(M_kg, V, d)\n",
    "jB_avg = IB / (np.pi * Rth*Rth)\n",
    "jB_cent = Ib / (np.pi * rs*rs)\n",
    "\n",
    "print(f\"Bohm current density:           {jBohm:0.2f} A m-2\")\n",
    "print(f\"Bohm current:                   {IBohm*1000:0.2f} mA \")\n",
    "print(f\"Center current:                 {Ib*1000:0.3f} mA\")\n",
    "print(f\"Actual-to-Bohm Current ratio:   {Ib / IBohm:0.3f}\")\n",
    "print(f\"Child-Langmuir current density: {jCL:0.2f} A m-2\")\n",
    "print(f\"Actual Avg. Current Density:    {jB_avg:0.2f} A m-2\")\n",
    "print(f\"Actual Center Current Density:  {jB_cent:0.2f} A m-2\")\n",
    "\n",
    "print(f\" --- \")\n",
    "print(f\"Bohm-to-CL ratio:               {jBohm / jCL:0.5f} \")\n",
    "print(f\"B_avg-to-CL ratio:              {jB_avg / jCL:0.5f} \")\n",
    "print(f\"B_avg-to-Bohm ratio:            {jB_avg / jBohm:0.5f} \")\n",
    "print(f\"B_cent-to-CL ratio:             {jB_cent / jCL:0.5f} \")\n",
    "print(f\"B_cent-to-Bohm ratio:           {jB_cent / jBohm:0.5f} \")\n"
   ]
  },
  {
   "cell_type": "code",
   "execution_count": 45,
   "metadata": {},
   "outputs": [
    {
     "data": {
      "text/plain": [
       "2.175306177997739e-25"
      ]
     },
     "execution_count": 45,
     "metadata": {},
     "output_type": "execute_result"
    }
   ],
   "source": [
    "rs\n",
    "M_kg"
   ]
  },
  {
   "cell_type": "code",
   "execution_count": 46,
   "metadata": {},
   "outputs": [
    {
     "data": {
      "text/plain": [
       "15.373062770395045"
      ]
     },
     "execution_count": 46,
     "metadata": {},
     "output_type": "execute_result"
    }
   ],
   "source": [
    "jBohm_test = bohm_current_density(1e17, 5, M_kg)\n",
    "jBohm_test"
   ]
  },
  {
   "cell_type": "code",
   "execution_count": null,
   "metadata": {},
   "outputs": [],
   "source": []
  }
 ],
 "metadata": {
  "kernelspec": {
   "display_name": "Python 3",
   "language": "python",
   "name": "python3"
  },
  "language_info": {
   "codemirror_mode": {
    "name": "ipython",
    "version": 3
   },
   "file_extension": ".py",
   "mimetype": "text/x-python",
   "name": "python",
   "nbconvert_exporter": "python",
   "pygments_lexer": "ipython3",
   "version": "3.9.6"
  }
 },
 "nbformat": 4,
 "nbformat_minor": 2
}
